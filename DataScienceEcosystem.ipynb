{
  "metadata": {
    "kernelspec": {
      "name": "python",
      "display_name": "Python (Pyodide)",
      "language": "python"
    },
    "language_info": {
      "codemirror_mode": {
        "name": "python",
        "version": 3
      },
      "file_extension": ".py",
      "mimetype": "text/x-python",
      "name": "python",
      "nbconvert_exporter": "python",
      "pygments_lexer": "ipython3",
      "version": "3.8"
    }
  },
  "nbformat_minor": 5,
  "nbformat": 4,
  "cells": [
    {
      "id": "c8ec64e4-8358-4c0c-b156-4313cf5b9af1",
      "cell_type": "markdown",
      "source": "# Data Science Tools and Ecosystem",
      "metadata": {}
    },
    {
      "id": "0063f44c-2183-4f48-8c3b-b834f8cc083a",
      "cell_type": "markdown",
      "source": "In this notebook, Data Science Tools and Ecosystem are summarized.",
      "metadata": {}
    },
    {
      "id": "c0535678-4902-4785-86f4-81027fe2d43b",
      "cell_type": "markdown",
      "source": "Some of the popular languages that Data Scientists use are:\n1. Python\n2. R\n3. SQL\n4. C++\n5. Java etc..;",
      "metadata": {}
    },
    {
      "id": "d8cb89f1-3abe-4c39-a817-00bd5fe406b3",
      "cell_type": "markdown",
      "source": "Some of the commonly used libraries used by Data Scientists include:\n\n1. TensorFlow.\n2. NumPy.\n3. SciPy.\n4. Pandas.\n5. Matplotlib.\n6. Keras.\n7. Scikit-Learn.\n8. PyTorch. etc.;",
      "metadata": {}
    },
    {
      "id": "7e67d4b6-281c-46b1-a572-c8e8132ec8ab",
      "cell_type": "markdown",
      "source": "| Data Science Tools |\n| --- |\n| SAS |\n| Apache Hadoop |\n| TensorFlow |",
      "metadata": {}
    },
    {
      "id": "961dc5fc-9e54-4e73-aebe-adf8da47e28e",
      "cell_type": "markdown",
      "source": "### Below are a few examples of evaluating arithmetic expressions in Python",
      "metadata": {}
    },
    {
      "id": "fca26b31-5f9f-46c7-bd2f-2704601ae6ea",
      "cell_type": "code",
      "source": "#This a simple arithmetic expression to multiply and then add integers\n(3*4)+5",
      "metadata": {
        "trusted": true
      },
      "outputs": [
        {
          "execution_count": 4,
          "output_type": "execute_result",
          "data": {
            "text/plain": "17"
          },
          "metadata": {}
        }
      ],
      "execution_count": 4
    },
    {
      "id": "13106305-f0cc-4ba6-80ca-ab22100819da",
      "cell_type": "code",
      "source": "#This will convert 200 minutes to hours by diving by 60\n200/60",
      "metadata": {
        "trusted": true
      },
      "outputs": [
        {
          "execution_count": 5,
          "output_type": "execute_result",
          "data": {
            "text/plain": "3.3333333333333335"
          },
          "metadata": {}
        }
      ],
      "execution_count": 5
    },
    {
      "id": "721c6110-cbc6-44ce-b4e1-386e94f2884b",
      "cell_type": "markdown",
      "source": "**Objective**\n\n* List popular languages for Data Science\n* List popular libraries for Data Science\n* List of well known Data Science Tools\n* How to provide comments in the cell",
      "metadata": {}
    },
    {
      "id": "311a6e20-6342-41a4-b58c-a44c4a636f80",
      "cell_type": "markdown",
      "source": "## Author \nPai Nikhitha Subhash Ushalatha",
      "metadata": {}
    }
  ]
}